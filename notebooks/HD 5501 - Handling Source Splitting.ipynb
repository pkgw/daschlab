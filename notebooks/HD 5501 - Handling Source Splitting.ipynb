{
 "cells": [
  {
   "cell_type": "markdown",
   "id": "e40c18d5-e4e9-49ca-b3f5-faab7d3f1aaf",
   "metadata": {},
   "source": [
    "# daschlab Tutorial: Handling Source Splitting in HD 5501\n",
    "\n",
    "HD 5501 is a 9th-mag eclipsing binary with a period of around 7.5 days. In DASCH's APASS calibration, it is subject to\n",
    "the [\"source splitting\" Known Issue][sski], which causes its data to be split among several different raw lightcurves.\n",
    "This notebook demonstrates how to merge the split data.\n",
    "\n",
    "[sski]: https://dasch.cfa.harvard.edu/dr7/ki/source-splitting/\n",
    "\n",
    "---\n",
    "\n",
    "## **Important:** Non-introductory tutorial\n",
    "\n",
    "*daschlab* is **interactive** software and it's very difficult to express some of the key steps in writing.\n",
    "\n",
    "#### **If you're unfamiliar with *daschlab*,** complete [the RY Cnc introductory tutorial][rycnc] before undertaking this one.\n",
    "\n",
    "[rycnc]: https://dasch.cfa.harvard.edu/dr7/rycnc/"
   ]
  },
  {
   "cell_type": "markdown",
   "id": "41e26299-8a75-4ba8-8c67-a6186e6c542e",
   "metadata": {},
   "source": [
    "---\n",
    "\n",
    "## Preliminaries\n",
    "\n",
    "Here we'll do some standard imports."
   ]
  },
  {
   "cell_type": "code",
   "execution_count": null,
   "id": "9ce5c4bf-673c-49e0-b591-bcce10cf9595",
   "metadata": {},
   "outputs": [],
   "source": [
    "# Get the main module:\n",
    "import daschlab\n",
    "\n",
    "# Set up Bokeh plots:\n",
    "from bokeh.io import output_notebook\n",
    "output_notebook()\n",
    "\n",
    "# Get some other imports that will be useful:\n",
    "from astropy import units as u\n",
    "from bokeh.plotting import figure, show\n",
    "import numpy as np\n",
    "from daschlab.photometry import AFlags, BFlags"
   ]
  },
  {
   "cell_type": "markdown",
   "id": "aff5bd36-6015-4716-b0be-5bb955191025",
   "metadata": {},
   "source": [
    "---\n",
    "\n",
    "## Set up the session\n",
    "\n",
    "Now we configure our analysis session: where the data are stored, what target we're interested in, and which photometric reference catalog to use.\n",
    "The configuration here is completely standard."
   ]
  },
  {
   "cell_type": "code",
   "execution_count": null,
   "id": "8ed8b3e3-c916-485e-83a8-7c83d766ccdb",
   "metadata": {},
   "outputs": [],
   "source": [
    "SOURCE = \"HD 5501\"\n",
    "\n",
    "sess = daschlab.open_session(source=SOURCE)\n",
    "sess.select_target(name=SOURCE)\n",
    "sess.select_refcat(\"apass\")"
   ]
  },
  {
   "cell_type": "markdown",
   "id": "9a2c3937-a8e7-427b-bb4f-a92880b15df6",
   "metadata": {},
   "source": [
    "---\n",
    "\n",
    "## Connect to WWT and display the \"refcat\" sources\n",
    "\n",
    "We can use daschlab's WWT integration to display the catalog sources of interest on the sky.\n",
    "This is always a good first step when digging into the data.\n",
    "\n",
    "#### **Before proceeding, make sure that the WWT JupyterLab app is open** — the [RY Cnc slideshow][slides] shows what to do\n",
    "\n",
    "Once that's done, we can proceed:\n",
    "\n",
    "[slides]: https://dasch.cfa.harvard.edu/dr7/rycnc/#/7"
   ]
  },
  {
   "cell_type": "code",
   "execution_count": null,
   "id": "0059f3c9-22ea-453b-9d31-8cf5cae5d065",
   "metadata": {},
   "outputs": [],
   "source": [
    "await sess.connect_to_wwt()"
   ]
  },
  {
   "cell_type": "code",
   "execution_count": null,
   "id": "df83affa-03a7-495b-a21c-832d9498163d",
   "metadata": {},
   "outputs": [],
   "source": [
    "# Display the reference catalog in WWT\n",
    "sess.refcat().show()"
   ]
  },
  {
   "cell_type": "markdown",
   "id": "7aab4012-9a8f-44ba-bd3a-feabd25553ea",
   "metadata": {},
   "source": [
    "You might notice an astrometric offset between the catalog and basemap imagery. It's an unfortunate feature of the default WWT DSS mosaic. You can fix it by changing the WWT background to **PanSTARRS1 3pi**."
   ]
  },
  {
   "cell_type": "markdown",
   "id": "2a6fbadc-d40c-4a20-8810-4a6317301c64",
   "metadata": {},
   "source": [
    "---\n",
    "\n",
    "## Display a nice sample cutout\n",
    "\n",
    "As usual, a nice next \"warmup\" step is pull up a high-quality DASCH cutout around our target. *daschlab* has \n",
    "builtin functionality to suggest candidates."
   ]
  },
  {
   "cell_type": "code",
   "execution_count": null,
   "id": "fd9cdb39-1047-4fae-be7c-0cdb1a5c57bb",
   "metadata": {},
   "outputs": [],
   "source": [
    "# Print mini table of candidates\n",
    "sess.exposures().candidate_nice_cutouts()"
   ]
  },
  {
   "cell_type": "code",
   "execution_count": null,
   "id": "ee18b491-d774-482b-855f-db799f34ac18",
   "metadata": {},
   "outputs": [],
   "source": [
    "# This exp_local_id looks good ...\n",
    "sess.exposures().show(8732)"
   ]
  },
  {
   "cell_type": "markdown",
   "id": "7bde450b-8785-4206-a154-57275d101d8b",
   "metadata": {},
   "source": [
    "---\n",
    "\n",
    "## Identify that \"source splitting\" is an issue\n",
    "\n",
    "To analyze the lightcurve of this object, the natural next step is to look at the lightcurve of \"target 0\", the \n",
    "entry in our source catalog that is spatially closest to HD 5501's catalog position:"
   ]
  },
  {
   "cell_type": "code",
   "execution_count": null,
   "id": "75292ad7-598f-4f63-a4bd-cfab073f436d",
   "metadata": {},
   "outputs": [],
   "source": [
    "lc = sess.lightcurve(0)\n",
    "lc.summary()"
   ]
  },
  {
   "cell_type": "markdown",
   "id": "db65fb75-1b35-45f9-993a-9d82df9e6a00",
   "metadata": {},
   "source": [
    "This is immediately suspicious. First of all, HD 5501's B magnitude should be more like 9.0, not 9.9.\n",
    "Second, a star this bright should have thousands of detections, not hundreds.\n",
    "\n",
    "In the DASCH data set, these kinds of things are evidence that [source splitting][ss] is potentially coming into play.\n",
    "\n",
    "[ss]: https://dasch.cfa.harvard.edu/dr7/ki/source-splitting/\n",
    "\n",
    "In order to investigate this, let's summarize the lightcurve for \"target 1\", the catalog entry that is second-closest to our target."
   ]
  },
  {
   "cell_type": "code",
   "execution_count": null,
   "id": "6bc2ad23-7431-4c27-b4bc-319f0be0cd2f",
   "metadata": {},
   "outputs": [],
   "source": [
    "sess.lightcurve(1).summary()"
   ]
  },
  {
   "cell_type": "markdown",
   "id": "6e22ebc6-5c0a-4ba7-9593-4a003218b43b",
   "metadata": {},
   "source": [
    "The mean magnitude is about the same, and once again there are far fewer detections than there should be for\n",
    "a star that is actually this magnitude. This supports the idea that detections of HD 5501 are getting split\n",
    "between different catalog sources.\n",
    "\n",
    "To double-check this, let's print out the catalog information associated with this catalog entry:"
   ]
  },
  {
   "cell_type": "code",
   "execution_count": null,
   "id": "d7d83153-a4e8-47d6-a1e5-a5d62dd2a3be",
   "metadata": {},
   "outputs": [],
   "source": [
    "sess.refcat()[1]"
   ]
  },
  {
   "cell_type": "markdown",
   "id": "171ee95d-bff1-4dc5-9cb0-bff5b1b39c62",
   "metadata": {},
   "source": [
    "The source name (`ref_text`) looks like `N{numbers...}` and the cataloged magnitude (`stdmag`) is undefined, indicating that this is a source from the Guide Star Catalog v2.3.2 without a magnitude in the blue band. If this were truly a 9.5-mag star, it would absolutely be in the catalog already. This is yet more evidence that source-splitting is at play.\n",
    "\n",
    "How about the next source?"
   ]
  },
  {
   "cell_type": "code",
   "execution_count": null,
   "id": "424610cf-e4f9-4bd0-80de-031cfa41b28b",
   "metadata": {},
   "outputs": [],
   "source": [
    "sess.lightcurve(2).summary()"
   ]
  },
  {
   "cell_type": "markdown",
   "id": "821f0426-435f-437b-aea7-1c424dabfb83",
   "metadata": {},
   "source": [
    "This entry has many thousands of detections, and a magnitude much closer to what we expect. It\n",
    "looks like the bulk of the detections got associated with this catalog entry.\n",
    "\n",
    "Let's keep on checking more sources."
   ]
  },
  {
   "cell_type": "code",
   "execution_count": null,
   "id": "2f6ae043-cf99-4755-8180-5fef75707a58",
   "metadata": {},
   "outputs": [],
   "source": [
    "sess.lightcurve(3).summary()"
   ]
  },
  {
   "cell_type": "markdown",
   "id": "f70f7b80-bc86-44e5-b9d6-3187fa6f6fe2",
   "metadata": {},
   "source": [
    "There are fewer detections, but the mean magnitude is still around that of our target.\n",
    "\n",
    "OK, how far are we going to have to go here? It can be helpful to take a look at the reference\n",
    "catalog to get a sense of the characteristics of the sources in question:"
   ]
  },
  {
   "cell_type": "code",
   "execution_count": null,
   "id": "2023e97d-517f-484a-9a34-c43f226eb1f8",
   "metadata": {},
   "outputs": [],
   "source": [
    "# Get the catalog table\n",
    "rc = sess.refcat()\n",
    "\n",
    "# Add a column quantifying the distance between the catalog entry and the star of interest\n",
    "rc[\"sep\"] = sess.query().pos_as_skycoord().separation(rc[\"pos\"]).arcsec\n",
    "\n",
    "# Print out key characteristics of the 20 nearest sources\n",
    "rc[:20][[\"local_id\", \"ref_text\", \"sep\", \"stdmag\"]]"
   ]
  },
  {
   "cell_type": "markdown",
   "id": "5f54983f-87af-40d4-b32d-ed20672ae376",
   "metadata": {},
   "source": [
    "The 17th-nearest catalog source (the one with `local_id = 16`) is finally another official catalog APASS source.\n",
    "As a rough rule of thumb, everything nearer to our target than this is a candidate to have been assigned\n",
    "some detections of HD 5501. Note that HD 5501 itself has a missing catalog magnitude (`stdmag`) — this is\n",
    "probably why the source splitting is so severe here.\n",
    "\n",
    "To visualize the reference catalog better, it helps to increase the `size_vmin` setting of the WorldWide\n",
    "Telescope table display \"layer\". This number controls the relationship between the catalog magnitude\n",
    "(`stdmag`) and circle radius; increasing it causes the faintest sources to be drawn with bigger circles.\n",
    "We can edit this parameter using the WWT table Python object, obtainable by calling `refcat.show()` again:"
   ]
  },
  {
   "cell_type": "code",
   "execution_count": null,
   "id": "acfa6945-299b-40f3-98a7-482d512e82c0",
   "metadata": {},
   "outputs": [],
   "source": [
    "sess.refcat().show().size_vmin += 2"
   ]
  },
  {
   "cell_type": "markdown",
   "id": "d2cdbf03-54ad-4e57-87e4-21c0cc68153f",
   "metadata": {},
   "source": [
    "To keep things tractable, let's just declare that we're only going to look for source-split measurements\n",
    "in the lightcurves of catalog sources that are closer than 40 arcsec to the true source position.\n",
    "Looking at the above table, this means that we'll look at the eleven nearest sources."
   ]
  },
  {
   "cell_type": "code",
   "execution_count": null,
   "id": "765a1287-6f92-418a-ba72-007aa8377e19",
   "metadata": {},
   "outputs": [],
   "source": [
    "N_TO_MERGE = 11"
   ]
  },
  {
   "cell_type": "markdown",
   "id": "f65ee648-027a-42d6-9e50-5572c3216c81",
   "metadata": {},
   "source": [
    "Let's download the data for all of these lightcurves. This will take a while — time to go get a cup of coffee."
   ]
  },
  {
   "cell_type": "code",
   "execution_count": null,
   "id": "54b1064b-4c73-4691-af8b-a6dd6355b193",
   "metadata": {},
   "outputs": [],
   "source": [
    "lcs = [sess.lightcurve(i) for i in range(N_TO_MERGE)]"
   ]
  },
  {
   "cell_type": "markdown",
   "id": "fc462d76-4d19-488a-ad53-872abceeff3b",
   "metadata": {},
   "source": [
    "Let's print out a summary of what we've got:"
   ]
  },
  {
   "cell_type": "code",
   "execution_count": null,
   "id": "7b2466b4-77be-4a61-868f-fe214dc427f7",
   "metadata": {},
   "outputs": [],
   "source": [
    "for i, lc in enumerate(lcs):\n",
    "    print(\"***** lightcurve index\", i)\n",
    "    lc.summary()\n",
    "    print()"
   ]
  },
  {
   "cell_type": "markdown",
   "id": "f71a5afb-fcd6-48ca-a16e-0f9d93937096",
   "metadata": {},
   "source": [
    "This seems like a decent starting point for the merger analysis."
   ]
  },
  {
   "cell_type": "markdown",
   "id": "89af9413-9d2a-4701-a28e-4c6f7906c0e0",
   "metadata": {},
   "source": [
    "---\n",
    "\n",
    "## Merge the lightcurves\n",
    "\n",
    "Before we merge, let's apply standard rejections to all of the individual lightcurves:"
   ]
  },
  {
   "cell_type": "code",
   "execution_count": null,
   "id": "ac391ba3-30ca-489a-8002-35ae4eae015d",
   "metadata": {},
   "outputs": [],
   "source": [
    "for lc in lcs:\n",
    "    lc.apply_standard_rejections()\n",
    "    print()"
   ]
  },
  {
   "cell_type": "markdown",
   "id": "b91fe7ad-c9d4-4d6f-98e5-bc28688a9b24",
   "metadata": {},
   "source": [
    "This flags out a lot of data.\n",
    "\n",
    "We're now ready to merge. We just need to call a library function:"
   ]
  },
  {
   "cell_type": "code",
   "execution_count": null,
   "id": "a1c3e3cc-513f-4e6c-bfbd-b2d3d25b660d",
   "metadata": {},
   "outputs": [],
   "source": [
    "import daschlab.lightcurves\n",
    "\n",
    "# this will take a moment to run:\n",
    "mlc = daschlab.lightcurves.merge(lcs)\n",
    "mlc.summary()"
   ]
  },
  {
   "cell_type": "markdown",
   "id": "2d647102-000e-4eed-9f48-4c005eb35733",
   "metadata": {},
   "source": [
    "This looks promising. The mean magnitude is around what it should be, and we have around 2400 non-rejected detections.\n",
    "In comparison, source #2 had around 2000 good detections after applying standard rejections, so by merging we've\n",
    "increased the amount of available data by about 20%.\n",
    "\n",
    "The merge algorithm looks at every detection in every input lightcurve, and groups them by the DASCH exposure where\n",
    "they originated. When source splitting is in play, in most cases there will be exactly one lightcurve with a detection\n",
    "for each exposure — the detection just jumps among sources based on things like small astrometric errors.\n",
    "\n",
    "The resulting lightcurve gains a column named `merge_n_hits` that tells us how many lightcurves had detections for\n",
    "the each exposure. If more than one lightcurve has a hit, the merge algorithm chooses the detection with the\n",
    "magnitude value closest to the mean magnitude, since we can't fully trust the astrometry.\n",
    "\n",
    "Let's make a little histogram of how many lightcurve points have how many hits:"
   ]
  },
  {
   "cell_type": "code",
   "execution_count": null,
   "id": "0fa46170-c511-4f2d-9913-e8b98eefc8fe",
   "metadata": {},
   "outputs": [],
   "source": [
    "n_hit_counts = {}\n",
    "\n",
    "for row in mlc:\n",
    "    nh = row[\"merge_n_hits\"]\n",
    "    n_hit_counts[nh] = n_hit_counts.get(nh, 0) + 1\n",
    "\n",
    "for n_hits, n_rows in sorted(n_hit_counts.items()):\n",
    "    print(f\"- there were {n_rows:4} rows with {n_hits:4} hits in the source lightcurves\")"
   ]
  },
  {
   "cell_type": "markdown",
   "id": "79f4f43b-f432-4d16-b576-aaf0ebaae7a9",
   "metadata": {},
   "source": [
    "This is very promising. There's onle one case where there was any ambiguity.\n",
    "To be safe, let's reject it:"
   ]
  },
  {
   "cell_type": "code",
   "execution_count": null,
   "id": "31a3528a-c769-47c5-b2bc-040afcd6ad9a",
   "metadata": {},
   "outputs": [],
   "source": [
    "mlc.reject.where(mlc[\"merge_n_hits\"] > 1, tag=\"merge_ambiguity\")"
   ]
  },
  {
   "cell_type": "markdown",
   "id": "c5277bef-90c2-4631-a02c-395e534fada5",
   "metadata": {},
   "source": [
    "---\n",
    "\n",
    "## Examine the merged result\n",
    "\n",
    "Enough dilly-dallying, let's look at what we got!"
   ]
  },
  {
   "cell_type": "code",
   "execution_count": null,
   "id": "2eab8235-cdc6-4648-b7cc-f60811d8d262",
   "metadata": {},
   "outputs": [],
   "source": [
    "mlc.plot()"
   ]
  },
  {
   "cell_type": "markdown",
   "id": "137fbeb0-34f7-4c5d-b4ed-2c9507e53219",
   "metadata": {},
   "source": [
    "There are a couple of clearly bogus low points, and also a number of bogus limits. But overall,\n",
    "we appear to have a lot of reasonable-looking measurements.\n",
    "\n",
    "Let's plot the data at the known orbital phase to check how things look."
   ]
  },
  {
   "cell_type": "code",
   "execution_count": null,
   "id": "b6ec6f4d-3115-4280-8175-0385f6a08c70",
   "metadata": {},
   "outputs": [],
   "source": [
    "PERIOD = 7.5352272 # days\n",
    "\n",
    "# The offset here gets the eclipse to show up around ph ~ 0.5:\n",
    "mlc['ph'] = (mlc['time'].jd / PERIOD - 0.4) % 1\n",
    "\n",
    "mlc.plot(x_axis=\"ph\")"
   ]
  },
  {
   "cell_type": "markdown",
   "id": "0a02e02d-5aa2-432b-951f-c7cfe1a088fe",
   "metadata": {},
   "source": [
    "We can definitely see an eclipse there!"
   ]
  },
  {
   "cell_type": "markdown",
   "id": "1062109e-59ca-45fb-8e3b-ef230d052c73",
   "metadata": {},
   "source": [
    "---\n",
    "\n",
    "## Filter data: Incorrect merges\n",
    "\n",
    "The most obvious issue with the merged lightcurve is the very low points. Let's examine one of them, identifying its \"local ID\"\n",
    "by mousing over one of the points in the plot above."
   ]
  },
  {
   "cell_type": "code",
   "execution_count": null,
   "id": "6e96d87c-9e72-430d-9b5e-1dbe6b3a34f4",
   "metadata": {},
   "outputs": [],
   "source": [
    "mlc[1600]"
   ]
  },
  {
   "cell_type": "markdown",
   "id": "8d1d0c1a-e2c5-4ef1-8397-962a3cb97f58",
   "metadata": {},
   "source": [
    "At the far right of the table row printout, there is a column called `source_lc_index` identifying which\n",
    "source lightcurve this row came from. You should see that these rows all come from source curve #8.\n",
    "You might have noticed above that the `stdmag` for this catalog source is *relatively* bright:"
   ]
  },
  {
   "cell_type": "code",
   "execution_count": null,
   "id": "94ddf0d7-0b3f-46c9-aa1e-a501e5d60018",
   "metadata": {},
   "outputs": [],
   "source": [
    "sess.refcat()[8][\"stdmag\"]"
   ]
  },
  {
   "cell_type": "markdown",
   "id": "4a2c139a-afc3-4201-a8fe-f75c39d0b752",
   "metadata": {},
   "source": [
    "This is, in fact, in the ballpark of the detections that we're getting. So these are clearly mis-identifications\n",
    "in our lightcurve. We can flag them:"
   ]
  },
  {
   "cell_type": "code",
   "execution_count": null,
   "id": "3d7be733-de75-4748-a69c-65e401e18e15",
   "metadata": {},
   "outputs": [],
   "source": [
    "mlc.reject.where(\n",
    "    (mlc[\"source_lc_index\"] == 8) & (mlc[\"magcal_magdep\"] > 13 * u.mag), \n",
    "    tag=\"merge_error\"\n",
    ")"
   ]
  },
  {
   "cell_type": "markdown",
   "id": "8a77cf9b-ba0f-4c26-bc0f-4ddd09375025",
   "metadata": {},
   "source": [
    "We also clearly have a lot of spurious upper limits. For certain science applications, you might need to dig\n",
    "into those and understand where there coming from. Here, we just want a nice phase plot, so let's just throw\n",
    "them away:"
   ]
  },
  {
   "cell_type": "code",
   "execution_count": null,
   "id": "2145bb69-9354-4e84-81f6-f95b49d6056d",
   "metadata": {},
   "outputs": [],
   "source": [
    "mlc.reject_unless.detected(tag=\"ignore_limits\")"
   ]
  },
  {
   "cell_type": "code",
   "execution_count": null,
   "id": "ef85941a-02ee-44b9-8626-f1e7feb98c18",
   "metadata": {},
   "outputs": [],
   "source": [
    "# How do things look now?\n",
    "mlc.plot(x_axis=\"ph\")"
   ]
  },
  {
   "cell_type": "markdown",
   "id": "846155f8-76cd-442a-be27-acfb0aec6ca7",
   "metadata": {},
   "source": [
    "There's clearly more flagging that could be done, but this tutorial will stop here."
   ]
  }
 ],
 "metadata": {
  "kernelspec": {
   "display_name": "Python 3 (ipykernel)",
   "language": "python",
   "name": "python3"
  },
  "language_info": {
   "codemirror_mode": {
    "name": "ipython",
    "version": 3
   },
   "file_extension": ".py",
   "mimetype": "text/x-python",
   "name": "python",
   "nbconvert_exporter": "python",
   "pygments_lexer": "ipython3",
   "version": "3.12.7"
  }
 },
 "nbformat": 4,
 "nbformat_minor": 5
}
