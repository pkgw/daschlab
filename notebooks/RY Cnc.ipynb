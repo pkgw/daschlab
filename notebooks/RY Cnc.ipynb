{
 "cells": [
  {
   "cell_type": "markdown",
   "id": "e40c18d5-e4e9-49ca-b3f5-faab7d3f1aaf",
   "metadata": {},
   "source": [
    "# daschlab demo: RY Cnc\n",
    "\n",
    "RY Cnc is a nice eclipsing binary with a period of 1.092943 days. Let's explore DASCH data for this system using the **daschlab** toolkit!\n",
    "\n",
    "---\n",
    "\n",
    "## **Important:** Scripted tutorial\n",
    "\n",
    "Although this notebook contains comments and descriptive text, *daschlab* is **interactive** software and it's very difficult to express some of the key steps in writing.\n",
    "\n",
    "#### **New users should follow [this tutorial slideshow][slides]** while progressing through this notebook. Open it in a new window now if it isn't already!\n",
    "\n",
    "[slides]: https://dasch.cfa.harvard.edu/dr7/rycnc/"
   ]
  },
  {
   "cell_type": "markdown",
   "id": "41e26299-8a75-4ba8-8c67-a6186e6c542e",
   "metadata": {},
   "source": [
    "---\n",
    "\n",
    "## Preliminaries"
   ]
  },
  {
   "cell_type": "code",
   "execution_count": null,
   "id": "9ce5c4bf-673c-49e0-b591-bcce10cf9595",
   "metadata": {},
   "outputs": [],
   "source": [
    "# Get the main module:\n",
    "import daschlab\n",
    "\n",
    "# Set up Bokeh plots:\n",
    "from bokeh.io import output_notebook\n",
    "output_notebook()\n",
    "\n",
    "# Get some other imports that will be useful:\n",
    "from astropy import units as u\n",
    "from bokeh.plotting import figure, show\n",
    "import numpy as np\n",
    "from daschlab.photometry import AFlags, BFlags"
   ]
  },
  {
   "cell_type": "markdown",
   "id": "aff5bd36-6015-4716-b0be-5bb955191025",
   "metadata": {},
   "source": [
    "---\n",
    "\n",
    "## Set up the session\n",
    "\n",
    "Here we configure our analysis session: where the data are stored, what target we're interested in, and which photometric reference catalog to use."
   ]
  },
  {
   "cell_type": "code",
   "execution_count": null,
   "id": "8ed8b3e3-c916-485e-83a8-7c83d766ccdb",
   "metadata": {},
   "outputs": [],
   "source": [
    "# Create or reload our session; data files stored in a directory with a\n",
    "# name derived from that of our target source.\n",
    "sess = daschlab.open_session(source=\"V* RY Cnc\")"
   ]
  },
  {
   "cell_type": "code",
   "execution_count": null,
   "id": "7edfeef7-731c-424d-8e46-264899db87c9",
   "metadata": {},
   "outputs": [],
   "source": [
    "# Set (or confirm) the target position, from a SIMBAD query:\n",
    "sess.select_target(name=\"V* RY Cnc\")"
   ]
  },
  {
   "cell_type": "code",
   "execution_count": null,
   "id": "3c5754cf-13a1-4c46-ae73-5805c8659a3e",
   "metadata": {},
   "outputs": [],
   "source": [
    "# Specify that we're using the APASS photometric reference catalog.\n",
    "# The alternative is ATLAS, which has better astrometry but whose photometric calibration\n",
    "# introduces artifacts in the long-term lightcurves. It should only be used if you *only*\n",
    "# care about astrometry\n",
    "sess.select_refcat(\"apass\")"
   ]
  },
  {
   "cell_type": "markdown",
   "id": "9a2c3937-a8e7-427b-bb4f-a92880b15df6",
   "metadata": {},
   "source": [
    "---\n",
    "\n",
    "## Display the \"refcat\" sources\n",
    "\n",
    "We can use daschlab's WWT integration to display the catalog sources of interest on the sky.\n",
    "\n",
    "#### **Before proceeding, make sure that the WWT JupyterLab app is open** — the [companion slideshow][slides] shows what to do\n",
    "\n",
    "Once that's done, we can proceed:\n",
    "\n",
    "[slides]: https://dasch.cfa.harvard.edu/dr7/rycnc/"
   ]
  },
  {
   "cell_type": "code",
   "execution_count": null,
   "id": "0059f3c9-22ea-453b-9d31-8cf5cae5d065",
   "metadata": {},
   "outputs": [],
   "source": [
    "await sess.connect_to_wwt()"
   ]
  },
  {
   "cell_type": "markdown",
   "id": "0d0f6203-8433-4c9d-a9b1-07ea79f365c3",
   "metadata": {},
   "source": [
    "The `sess.refcat()` method returns an Astropy table of catalog information, sorted by proximity to the session query target."
   ]
  },
  {
   "cell_type": "code",
   "execution_count": null,
   "id": "cf20920e-0ec8-4afb-bf16-39eb5e9b85f9",
   "metadata": {},
   "outputs": [],
   "source": [
    "# Dump info about the refcat sources nearest our target:\n",
    "sess.refcat()[:8]"
   ]
  },
  {
   "cell_type": "code",
   "execution_count": null,
   "id": "df83affa-03a7-495b-a21c-832d9498163d",
   "metadata": {},
   "outputs": [],
   "source": [
    "# Display all downloaded data in WWT\n",
    "sess.refcat().show()"
   ]
  },
  {
   "cell_type": "markdown",
   "id": "7aab4012-9a8f-44ba-bd3a-feabd25553ea",
   "metadata": {},
   "source": [
    "You might notice an astrometric offset between the catalog and basemap imagery. It's an unfortunate feature of the default WWT DSS mosaic. You can fix it by changing the WWT background to **PanSTARRS1 3pi**."
   ]
  },
  {
   "cell_type": "code",
   "execution_count": null,
   "id": "23fdbdfa-9b20-4eb1-beb9-7964cd4e2f48",
   "metadata": {},
   "outputs": [],
   "source": [
    "# The result of this command will change depending on what (if anything) you \n",
    "# last clicked on in the WWT viewer.\n",
    "sess.wwt().most_recent_source"
   ]
  },
  {
   "cell_type": "markdown",
   "id": "2a6fbadc-d40c-4a20-8810-4a6317301c64",
   "metadata": {},
   "source": [
    "---\n",
    "\n",
    "## Display a nice sample cutout\n",
    "\n",
    "A good way to start an analysis is to pull up a high-quality DASCH cutout around our target.\n",
    "\n",
    "We'll identify such a cutout by finding one that detects our source of interest and has a deep \"local limiting magnitude\". In order to get this limiting magnitude information, we download the lightcurve data for our target."
   ]
  },
  {
   "cell_type": "code",
   "execution_count": null,
   "id": "fd9cdb39-1047-4fae-be7c-0cdb1a5c57bb",
   "metadata": {},
   "outputs": [],
   "source": [
    "# the refcat sources are sorted by proximity to our search location\n",
    "# and assigned \"local ID\" numbers sequentially. So, target #0 is\n",
    "# almost always the one that you're interested in.\n",
    "TARGET_ID = 0\n",
    "\n",
    "lc = sess.lightcurve(TARGET_ID)\n",
    "# We'll explore the lightcurve object in more detail soon.\n",
    "# Also, this manual analysis is superseded by `sess.exposures().candidate_nice_cutouts()`"
   ]
  },
  {
   "cell_type": "markdown",
   "id": "c69bf67d-56fb-40cf-9c1f-08a4c9757848",
   "metadata": {},
   "source": [
    "Make a temporary table to sort by the limiting magnitude, and print out a few rows to look for what might be a good plate to show:"
   ]
  },
  {
   "cell_type": "code",
   "execution_count": null,
   "id": "08e2127a-b366-47c6-a7a7-721c6fe7e111",
   "metadata": {},
   "outputs": [],
   "source": [
    "# Make a temporary table to sort by the limiting magnitude. Print out a \n",
    "# few rows to look for what might be a good exposure to show:\n",
    "tmp_dets = lc.keep_only.nonrej_detected()\n",
    "tmp_dets.sort([\"limiting_mag_local\"], reverse=True)\n",
    "cols = \"limiting_mag_local exp_local_id series platenum fwhm_world ellipticity background\".split()\n",
    "tmp_dets[:6][cols]"
   ]
  },
  {
   "cell_type": "code",
   "execution_count": null,
   "id": "ee18b491-d774-482b-855f-db799f34ac18",
   "metadata": {},
   "outputs": [],
   "source": [
    "# This exp_local_id looks good ...\n",
    "sess.exposures().show(10721)"
   ]
  },
  {
   "cell_type": "markdown",
   "id": "7bde450b-8785-4206-a154-57275d101d8b",
   "metadata": {},
   "source": [
    "---\n",
    "\n",
    "## Check out the raw lightcurve"
   ]
  },
  {
   "cell_type": "code",
   "execution_count": null,
   "id": "75292ad7-598f-4f63-a4bd-cfab073f436d",
   "metadata": {},
   "outputs": [],
   "source": [
    "lc = sess.lightcurve(TARGET_ID)\n",
    "lc.summary()"
   ]
  },
  {
   "cell_type": "code",
   "execution_count": null,
   "id": "6bc2ad23-7431-4c27-b4bc-319f0be0cd2f",
   "metadata": {},
   "outputs": [],
   "source": [
    "# Create a Bokeh interactive plot\n",
    "lc.plot()"
   ]
  },
  {
   "cell_type": "code",
   "execution_count": null,
   "id": "98cdf1d4-3c50-4d32-b81a-5b89d0db3d5b",
   "metadata": {},
   "outputs": [],
   "source": [
    "# Check out the full set of columns available\n",
    "lc[:8]"
   ]
  },
  {
   "cell_type": "markdown",
   "id": "89af9413-9d2a-4701-a28e-4c6f7906c0e0",
   "metadata": {},
   "source": [
    "---\n",
    "\n",
    "## Plot phased with the known period"
   ]
  },
  {
   "cell_type": "code",
   "execution_count": null,
   "id": "b6ec6f4d-3115-4280-8175-0385f6a08c70",
   "metadata": {},
   "outputs": [],
   "source": [
    "PERIOD = 1.092943 # days"
   ]
  },
  {
   "cell_type": "code",
   "execution_count": null,
   "id": "b82a8f4d-34e3-4490-99c1-9f7fe8893bac",
   "metadata": {},
   "outputs": [],
   "source": [
    "# the offset here gets the eclipse to land at ph ~ 0.5:\n",
    "lc['ph'] = (lc['time'].jd - 0.4) % PERIOD"
   ]
  },
  {
   "cell_type": "code",
   "execution_count": null,
   "id": "4860f3c3-c43b-440e-8275-288f6319e52c",
   "metadata": {},
   "outputs": [],
   "source": [
    "lc.plot(x_axis=\"ph\")"
   ]
  },
  {
   "cell_type": "markdown",
   "id": "0e681404-5128-4b6a-86fb-658fb22ba319",
   "metadata": {},
   "source": [
    "---\n",
    "\n",
    "## Filter data: standard AFLAGS"
   ]
  },
  {
   "cell_type": "code",
   "execution_count": null,
   "id": "023b9ede-f1cf-4e6f-ba62-9ea9a37b949b",
   "metadata": {},
   "outputs": [],
   "source": [
    "STANDARD_BAD_AFLAGS = (\n",
    "    AFlags.HIGH_BACKGROUND | \n",
    "    AFlags.LARGE_ISO_RMS | \n",
    "    AFlags.LARGE_LOCAL_SMOOTH_RMS | \n",
    "    AFlags.CLOSE_TO_LIMITING | \n",
    "    AFlags.BIN_DRAD_UNKNOWN\n",
    ")"
   ]
  },
  {
   "cell_type": "code",
   "execution_count": null,
   "id": "9be85c99-61fa-4c6d-b92b-ac3fd351e113",
   "metadata": {},
   "outputs": [],
   "source": [
    "lc.reject.any_aflags(STANDARD_BAD_AFLAGS, tag=\"aflags\")"
   ]
  },
  {
   "cell_type": "code",
   "execution_count": null,
   "id": "d858825e-8e66-48d1-aea8-b887eb997cd8",
   "metadata": {},
   "outputs": [],
   "source": [
    "lc.plot(x_axis=\"ph\")"
   ]
  },
  {
   "cell_type": "markdown",
   "id": "ae104d30-75de-4c37-b7b0-bac7a24a4baa",
   "metadata": {},
   "source": [
    "---\n",
    "\n",
    "## Filter data: astrometric offset"
   ]
  },
  {
   "cell_type": "code",
   "execution_count": null,
   "id": "18a952b6-7971-4327-8c43-b3fc438481c7",
   "metadata": {},
   "outputs": [],
   "source": [
    "lc[\"sep\"] = sess.query().pos_as_skycoord().separation(lc[\"pos\"]).arcsec"
   ]
  },
  {
   "cell_type": "code",
   "execution_count": null,
   "id": "886d1669-4ffb-42d2-9148-88909622fd94",
   "metadata": {},
   "outputs": [],
   "source": [
    "# Include already-rejected points to make the trend clear:\n",
    "lc.scatter(\"sep\", \"magcal_magdep\", rejects=True)"
   ]
  },
  {
   "cell_type": "markdown",
   "id": "de9d4bb4-326b-4403-b202-3a7a99fa4840",
   "metadata": {},
   "source": [
    "Hm, there are some points with large offsets and they definitely seem to have issues!"
   ]
  },
  {
   "cell_type": "code",
   "execution_count": null,
   "id": "b3b6990d-16e3-418e-9554-7370101e05d8",
   "metadata": {},
   "outputs": [],
   "source": [
    "# To understand the dubious points better, look at the underlying imagery associated with one of them:\n",
    "sess.exposures().show(4104)"
   ]
  },
  {
   "cell_type": "code",
   "execution_count": null,
   "id": "d5af13c1-b4de-4f44-922b-3eb5c7e918c6",
   "metadata": {},
   "outputs": [],
   "source": [
    "# Reject detections whose fitted positions are farther than 15 arcsec from the true source location\n",
    "lc.reject.sep_above(15 * u.arcsec, tag=\"sep\")"
   ]
  },
  {
   "cell_type": "code",
   "execution_count": null,
   "id": "dbc754d1-3626-48b2-b579-43fb23775040",
   "metadata": {},
   "outputs": [],
   "source": [
    "lc.plot(x_axis=\"ph\")"
   ]
  },
  {
   "cell_type": "markdown",
   "id": "a6cbe222-79b6-470b-8c4d-52b27e1b775f",
   "metadata": {},
   "source": [
    "---\n",
    "\n",
    "## Filter data: low time accuracy"
   ]
  },
  {
   "cell_type": "code",
   "execution_count": null,
   "id": "b3139c6e-9a4d-4430-8096-6f0cb4396462",
   "metadata": {},
   "outputs": [],
   "source": [
    "# It turns out that the remaining low point has poor \"time accuracy\" -- \n",
    "# this column is a timestamp uncertainty in days\n",
    "lc[3453][\"time_accuracy\"]"
   ]
  },
  {
   "cell_type": "markdown",
   "id": "67dfd30d-fd72-4729-a98c-b0b0cb1b0b37",
   "metadata": {},
   "source": [
    "Note that this filter is only important since this system has a relatively short orbital period (~1 day). For other science applications, the time accuracy might not matter."
   ]
  },
  {
   "cell_type": "code",
   "execution_count": null,
   "id": "3eba4aa5-3325-449a-b53d-5edf4407b0e1",
   "metadata": {},
   "outputs": [],
   "source": [
    "# Nondetections have \"masked\" values for this column (although in principle they\n",
    "# don't have to), so we must fill in false values for those - the lack of data\n",
    "# doesn't mean that those rows are invalid.\n",
    "poor_time_acc = (lc[\"time_accuracy\"] > 0.2 * u.d).filled(False)\n",
    "\n",
    "# How many columns have high phase uncertainty?\n",
    "poor_time_acc.sum()"
   ]
  },
  {
   "cell_type": "code",
   "execution_count": null,
   "id": "c5aa3dd2-d556-4af3-b506-14d54b08d46d",
   "metadata": {},
   "outputs": [],
   "source": [
    "lc.reject.where(poor_time_acc, tag=\"timeacc\")"
   ]
  },
  {
   "cell_type": "code",
   "execution_count": null,
   "id": "b98ee6d1-6cf0-4c56-b5ef-ebf816a57f6f",
   "metadata": {},
   "outputs": [],
   "source": [
    "lc.plot(x_axis=\"ph\")"
   ]
  },
  {
   "cell_type": "markdown",
   "id": "87a462bc-5e88-44f6-ba18-5ccebdf2eccc",
   "metadata": {},
   "source": [
    "---\n",
    "\n",
    "## Filter data: suspected defects\n",
    "\n",
    "Let's examine the last remaining obvious outlier."
   ]
  },
  {
   "cell_type": "code",
   "execution_count": null,
   "id": "485995ef-8981-46f5-aa74-0792f061b8e7",
   "metadata": {},
   "outputs": [],
   "source": [
    "sess.exposures().show(5337)"
   ]
  },
  {
   "cell_type": "code",
   "execution_count": null,
   "id": "b1a37047-d584-41d0-951c-2612d9f27c2e",
   "metadata": {},
   "outputs": [],
   "source": [
    "lc[1346].flags()"
   ]
  },
  {
   "cell_type": "code",
   "execution_count": null,
   "id": "5f125e9a-72db-449a-896e-fe92c7fedb73",
   "metadata": {},
   "outputs": [],
   "source": [
    "lc.reject.any_aflags(AFlags.SUSPECTED_DEFECT, tag=\"aflags\")"
   ]
  },
  {
   "cell_type": "code",
   "execution_count": null,
   "id": "5676486f-0569-4b46-98b8-939cc97553a7",
   "metadata": {},
   "outputs": [],
   "source": [
    "lc.plot(x_axis=\"ph\")"
   ]
  },
  {
   "cell_type": "markdown",
   "id": "e1263f40-d17c-4ea4-8fa2-0a6630b132d7",
   "metadata": {},
   "source": [
    "That's the end of this notebook ... but we've only dealt with the obvious outlier detections in this lightcurve, and done so in a very coarse way! That's because this is an introductory tutorial. Consult [the DASCH documentation](https://dasch.cfa.harvard.edu/dr7/) for guides on more sophisticated analysis techniques."
   ]
  }
 ],
 "metadata": {
  "kernelspec": {
   "display_name": "Python 3 (ipykernel)",
   "language": "python",
   "name": "python3"
  },
  "language_info": {
   "codemirror_mode": {
    "name": "ipython",
    "version": 3
   },
   "file_extension": ".py",
   "mimetype": "text/x-python",
   "name": "python",
   "nbconvert_exporter": "python",
   "pygments_lexer": "ipython3",
   "version": "3.12.7"
  }
 },
 "nbformat": 4,
 "nbformat_minor": 5
}
